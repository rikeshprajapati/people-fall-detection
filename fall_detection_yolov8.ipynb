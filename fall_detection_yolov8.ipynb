{
  "cells": [
    {
      "cell_type": "markdown",
      "metadata": {
        "id": "aGUJdOeIV5Y0"
      },
      "source": [
        "## **1. Install dependencies.**\n",
        "\n",
        "\n",
        "These commands install the ultralytics library, which includes YOLOv8, and the roboflow library to access and download datasets."
      ]
    },
    {
      "cell_type": "code",
      "execution_count": 1,
      "metadata": {
        "id": "dHpqg9wCmNTp"
      },
      "outputs": [
        {
          "name": "stdout",
          "output_type": "stream",
          "text": [
            "Requirement already satisfied: ultralytics in c:\\users\\91911\\anaconda3\\lib\\site-packages (8.1.5)\n",
            "Requirement already satisfied: matplotlib>=3.3.0 in c:\\users\\91911\\anaconda3\\lib\\site-packages (from ultralytics) (3.8.4)\n",
            "Requirement already satisfied: numpy>=1.22.2 in c:\\users\\91911\\anaconda3\\lib\\site-packages (from ultralytics) (1.26.4)\n",
            "Requirement already satisfied: opencv-python>=4.6.0 in c:\\users\\91911\\anaconda3\\lib\\site-packages (from ultralytics) (4.9.0.80)\n",
            "Requirement already satisfied: pillow>=7.1.2 in c:\\users\\91911\\anaconda3\\lib\\site-packages (from ultralytics) (10.4.0)\n",
            "Requirement already satisfied: pyyaml>=5.3.1 in c:\\users\\91911\\anaconda3\\lib\\site-packages (from ultralytics) (5.3.1)\n",
            "Requirement already satisfied: requests>=2.23.0 in c:\\users\\91911\\anaconda3\\lib\\site-packages (from ultralytics) (2.32.2)\n",
            "Requirement already satisfied: scipy>=1.4.1 in c:\\users\\91911\\anaconda3\\lib\\site-packages (from ultralytics) (1.13.1)\n",
            "Requirement already satisfied: torch>=1.8.0 in c:\\users\\91911\\anaconda3\\lib\\site-packages (from ultralytics) (2.1.2)\n",
            "Requirement already satisfied: torchvision>=0.9.0 in c:\\users\\91911\\anaconda3\\lib\\site-packages (from ultralytics) (0.16.2)\n",
            "Requirement already satisfied: tqdm>=4.64.0 in c:\\users\\91911\\anaconda3\\lib\\site-packages (from ultralytics) (4.66.1)\n",
            "Requirement already satisfied: psutil in c:\\users\\91911\\anaconda3\\lib\\site-packages (from ultralytics) (5.9.0)\n",
            "Requirement already satisfied: py-cpuinfo in c:\\users\\91911\\anaconda3\\lib\\site-packages (from ultralytics) (9.0.0)\n",
            "Requirement already satisfied: thop>=0.1.1 in c:\\users\\91911\\anaconda3\\lib\\site-packages (from ultralytics) (0.1.1.post2209072238)\n",
            "Requirement already satisfied: pandas>=1.1.4 in c:\\users\\91911\\anaconda3\\lib\\site-packages (from ultralytics) (1.3.4)\n",
            "Requirement already satisfied: seaborn>=0.11.0 in c:\\users\\91911\\anaconda3\\lib\\site-packages (from ultralytics) (0.13.2)\n",
            "Requirement already satisfied: contourpy>=1.0.1 in c:\\users\\91911\\anaconda3\\lib\\site-packages (from matplotlib>=3.3.0->ultralytics) (1.2.0)\n",
            "Requirement already satisfied: cycler>=0.10 in c:\\users\\91911\\anaconda3\\lib\\site-packages (from matplotlib>=3.3.0->ultralytics) (0.11.0)\n",
            "Requirement already satisfied: fonttools>=4.22.0 in c:\\users\\91911\\anaconda3\\lib\\site-packages (from matplotlib>=3.3.0->ultralytics) (4.51.0)\n",
            "Requirement already satisfied: kiwisolver>=1.3.1 in c:\\users\\91911\\anaconda3\\lib\\site-packages (from matplotlib>=3.3.0->ultralytics) (1.4.4)\n",
            "Requirement already satisfied: packaging>=20.0 in c:\\users\\91911\\anaconda3\\lib\\site-packages (from matplotlib>=3.3.0->ultralytics) (23.2)\n",
            "Requirement already satisfied: pyparsing>=2.3.1 in c:\\users\\91911\\anaconda3\\lib\\site-packages (from matplotlib>=3.3.0->ultralytics) (3.0.9)\n",
            "Requirement already satisfied: python-dateutil>=2.7 in c:\\users\\91911\\anaconda3\\lib\\site-packages (from matplotlib>=3.3.0->ultralytics) (2.9.0.post0)\n",
            "Requirement already satisfied: importlib-resources>=3.2.0 in c:\\users\\91911\\anaconda3\\lib\\site-packages (from matplotlib>=3.3.0->ultralytics) (6.1.1)\n",
            "Requirement already satisfied: pytz>=2017.3 in c:\\users\\91911\\anaconda3\\lib\\site-packages (from pandas>=1.1.4->ultralytics) (2024.1)\n",
            "Requirement already satisfied: charset-normalizer<4,>=2 in c:\\users\\91911\\anaconda3\\lib\\site-packages (from requests>=2.23.0->ultralytics) (2.0.4)\n",
            "Requirement already satisfied: idna<4,>=2.5 in c:\\users\\91911\\anaconda3\\lib\\site-packages (from requests>=2.23.0->ultralytics) (3.7)\n",
            "Requirement already satisfied: urllib3<3,>=1.21.1 in c:\\users\\91911\\anaconda3\\lib\\site-packages (from requests>=2.23.0->ultralytics) (1.26.19)\n",
            "Requirement already satisfied: certifi>=2017.4.17 in c:\\users\\91911\\anaconda3\\lib\\site-packages (from requests>=2.23.0->ultralytics) (2024.7.4)\n",
            "Requirement already satisfied: filelock in c:\\users\\91911\\anaconda3\\lib\\site-packages (from torch>=1.8.0->ultralytics) (3.13.1)\n",
            "Requirement already satisfied: typing-extensions in c:\\users\\91911\\anaconda3\\lib\\site-packages (from torch>=1.8.0->ultralytics) (4.11.0)\n",
            "Requirement already satisfied: sympy in c:\\users\\91911\\anaconda3\\lib\\site-packages (from torch>=1.8.0->ultralytics) (1.12)\n",
            "Requirement already satisfied: networkx in c:\\users\\91911\\anaconda3\\lib\\site-packages (from torch>=1.8.0->ultralytics) (3.2.1)\n",
            "Requirement already satisfied: jinja2 in c:\\users\\91911\\anaconda3\\lib\\site-packages (from torch>=1.8.0->ultralytics) (2.11.3)\n",
            "Requirement already satisfied: fsspec in c:\\users\\91911\\anaconda3\\lib\\site-packages (from torch>=1.8.0->ultralytics) (2024.3.1)\n",
            "Requirement already satisfied: colorama in c:\\users\\91911\\anaconda3\\lib\\site-packages (from tqdm>=4.64.0->ultralytics) (0.4.6)\n",
            "Requirement already satisfied: zipp>=3.1.0 in c:\\users\\91911\\anaconda3\\lib\\site-packages (from importlib-resources>=3.2.0->matplotlib>=3.3.0->ultralytics) (3.17.0)\n",
            "Requirement already satisfied: six>=1.5 in c:\\users\\91911\\anaconda3\\lib\\site-packages (from python-dateutil>=2.7->matplotlib>=3.3.0->ultralytics) (1.16.0)\n",
            "Requirement already satisfied: MarkupSafe>=0.23 in c:\\users\\91911\\anaconda3\\lib\\site-packages (from jinja2->torch>=1.8.0->ultralytics) (1.1.1)\n",
            "Requirement already satisfied: mpmath>=0.19 in c:\\users\\91911\\anaconda3\\lib\\site-packages (from sympy->torch>=1.8.0->ultralytics) (1.3.0)\n"
          ]
        },
        {
          "name": "stderr",
          "output_type": "stream",
          "text": [
            "WARNING: Ignoring invalid distribution -orch (c:\\users\\91911\\anaconda3\\lib\\site-packages)\n",
            "WARNING: Ignoring invalid distribution -orch (c:\\users\\91911\\anaconda3\\lib\\site-packages)\n"
          ]
        }
      ],
      "source": [
        "# Pip install method (recommended)\n",
        "\n",
        "!pip install ultralytics\n"
      ]
    },
    {
      "cell_type": "markdown",
      "metadata": {
        "id": "iGkBV0q-bM3g"
      },
      "source": [
        "These imports bring in the YOLO model, display capabilities for images in Jupyter notebooks, and the Roboflow API for dataset management.\n"
      ]
    },
    {
      "cell_type": "code",
      "execution_count": 1,
      "metadata": {
        "id": "q9fB2M9imqRE"
      },
      "outputs": [],
      "source": [
        "from ultralytics import YOLO"
      ]
    },
    {
      "cell_type": "markdown",
      "metadata": {
        "id": "z1VUZHCWWKsq"
      },
      "source": [
        "## **2.Downloading the Dataset from Roboflow**"
      ]
    },
    {
      "cell_type": "markdown",
      "metadata": {
        "id": "0ukPj-SFbSqd"
      },
      "source": [
        "This section sets up the connection to Roboflow, using your API key, workspace, and project details. It then downloads version 4 of the dataset for use with YOLOv8."
      ]
    },
    {
      "cell_type": "code",
      "execution_count": null,
      "metadata": {
        "id": "ljAzZTgpnW0r"
      },
      "outputs": [],
      "source": [
        "from roboflow import Roboflow\n",
        "rf = Roboflow(api_key=\"\")\n",
        "project = rf.workspace(\"\").project(\"\")\n",
        "version = project.version(4)\n",
        "dataset = version.download(\"yolov8\")"
      ]
    },
    {
      "cell_type": "markdown",
      "metadata": {
        "id": "9iILtSdgWjf2"
      },
      "source": [
        "## **3. Training the Model**"
      ]
    },
    {
      "cell_type": "markdown",
      "metadata": {
        "id": "mb1a2WPZblG2"
      },
      "source": [
        "This command trains the YOLOv8 model with the following parameters:\n",
        "\n",
        "\n",
        "*  **task=detect: Specifies that the task is object detection.**\n",
        "*  **mode=train: Indicates the training mode.**\n",
        "*  **model=yolov8m.pt: Uses the medium variant of the YOLOv8 pre-trained model.**\n",
        "*  **data=/content/data.yaml: Specifies the dataset configuration file.**\n",
        "* **epochs=10: Trains the model for 10 epochs.**\n",
        "*  **imgsz=640: Sets the image size to 640x640 pixels.**\n",
        "*  **plots=True: Enables the plotting of training metrics.**\n",
        "\n",
        "\n",
        "\n",
        "\n",
        "\n",
        "\n",
        "\n",
        "\n",
        "\n",
        "\n",
        "\n",
        "\n",
        "\n",
        "\n",
        "\n",
        "\n"
      ]
    },
    {
      "cell_type": "code",
      "execution_count": null,
      "metadata": {
        "id": "vkHcT9ePnW8W"
      },
      "outputs": [],
      "source": [
        "\n",
        "!yolo task=detect mode=train model=yolov8m.pt data=/content/data.yaml epochs=10 imgsz=640 plots=True\n"
      ]
    },
    {
      "cell_type": "markdown",
      "metadata": {
        "id": "G3JQJI6xXOTq"
      },
      "source": [
        "## **4. Validate our model**"
      ]
    },
    {
      "cell_type": "markdown",
      "metadata": {
        "id": "dabfe05Xcs5c"
      },
      "source": [
        "This command validates the trained model using the validation dataset specified in data.yaml."
      ]
    },
    {
      "cell_type": "code",
      "execution_count": null,
      "metadata": {
        "id": "N4REDbXTXL11"
      },
      "outputs": [],
      "source": [
        "!yolo task=detect mode=val model=/content/drive/MyDrive/fall-detection/runs/detect/train/weights/best.pt data=/content/data.yaml"
      ]
    },
    {
      "cell_type": "markdown",
      "metadata": {
        "id": "Bnp91-GxXXAZ"
      },
      "source": [
        "## **5. Making predictions**\n",
        "\n",
        "This command runs the model in prediction mode with the following parameters:\n",
        "\n",
        "* **model=/content/drive/MyDrive/fall-detection/runs/detect/train/weights/best.pt: Specifies the path to the best-trained model weights.**\n",
        "* **conf=0.25: Sets the confidence threshold to 25%.**\n",
        "* **source=/content/Fall-Detection-4/test/images: Specifies the source directory for test images.**"
      ]
    },
    {
      "cell_type": "code",
      "execution_count": 4,
      "metadata": {
        "id": "F8T4EaVuXgeE"
      },
      "outputs": [
        {
          "name": "stdout",
          "output_type": "stream",
          "text": [
            "^C\n"
          ]
        }
      ],
      "source": [
        "!yolo task=detect mode=predict model=fall_detection_model.pt conf=0.25 source=test/"
      ]
    }
  ],
  "metadata": {
    "accelerator": "GPU",
    "colab": {
      "gpuType": "T4",
      "provenance": []
    },
    "kernelspec": {
      "display_name": "Python 3",
      "name": "python3"
    },
    "language_info": {
      "codemirror_mode": {
        "name": "ipython",
        "version": 3
      },
      "file_extension": ".py",
      "mimetype": "text/x-python",
      "name": "python",
      "nbconvert_exporter": "python",
      "pygments_lexer": "ipython3",
      "version": "3.9.18"
    }
  },
  "nbformat": 4,
  "nbformat_minor": 0
}
